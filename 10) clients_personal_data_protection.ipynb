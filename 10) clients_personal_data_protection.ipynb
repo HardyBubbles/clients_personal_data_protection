{
 "cells": [
  {
   "cell_type": "markdown",
   "metadata": {
    "toc": true
   },
   "source": [
    "<h1>Содержание<span class=\"tocSkip\"></span></h1>\n",
    "<div class=\"toc\"><ul class=\"toc-item\"><li><span><a href=\"#Загрузка-данных\" data-toc-modified-id=\"Загрузка-данных-1\"><span class=\"toc-item-num\">1&nbsp;&nbsp;</span>Загрузка данных</a></span><ul class=\"toc-item\"><li><span><a href=\"#Импорт-библиотек-и-загрузка-данных\" data-toc-modified-id=\"Импорт-библиотек-и-загрузка-данных-1.1\"><span class=\"toc-item-num\">1.1&nbsp;&nbsp;</span>Импорт библиотек и загрузка данных</a></span></li><li><span><a href=\"#Анализ-и-предварительная-обработка-данных\" data-toc-modified-id=\"Анализ-и-предварительная-обработка-данных-1.2\"><span class=\"toc-item-num\">1.2&nbsp;&nbsp;</span>Анализ и предварительная обработка данных</a></span></li><li><span><a href=\"#Выводы:\" data-toc-modified-id=\"Выводы:-1.3\"><span class=\"toc-item-num\">1.3&nbsp;&nbsp;</span>Выводы:</a></span></li></ul></li><li><span><a href=\"#Умножение-матриц\" data-toc-modified-id=\"Умножение-матриц-2\"><span class=\"toc-item-num\">2&nbsp;&nbsp;</span>Умножение матриц</a></span><ul class=\"toc-item\"><li><span><a href=\"#Вывод\" data-toc-modified-id=\"Вывод-2.1\"><span class=\"toc-item-num\">2.1&nbsp;&nbsp;</span>Вывод</a></span></li></ul></li><li><span><a href=\"#Алгоритм-преобразования\" data-toc-modified-id=\"Алгоритм-преобразования-3\"><span class=\"toc-item-num\">3&nbsp;&nbsp;</span>Алгоритм преобразования</a></span><ul class=\"toc-item\"><li><span><a href=\"#Выводы\" data-toc-modified-id=\"Выводы-3.1\"><span class=\"toc-item-num\">3.1&nbsp;&nbsp;</span>Выводы</a></span></li></ul></li><li><span><a href=\"#Проверка-алгоритма\" data-toc-modified-id=\"Проверка-алгоритма-4\"><span class=\"toc-item-num\">4&nbsp;&nbsp;</span>Проверка алгоритма</a></span><ul class=\"toc-item\"><li><span><a href=\"#Оцениваем-качество-предсказаний-модели-на-исходных-данных\" data-toc-modified-id=\"Оцениваем-качество-предсказаний-модели-на-исходных-данных-4.1\"><span class=\"toc-item-num\">4.1&nbsp;&nbsp;</span>Оцениваем качество предсказаний модели на исходных данных</a></span></li><li><span><a href=\"#Оцениваем-качество-предсказаний-модели-на-модернизированных-данных\" data-toc-modified-id=\"Оцениваем-качество-предсказаний-модели-на-модернизированных-данных-4.2\"><span class=\"toc-item-num\">4.2&nbsp;&nbsp;</span>Оцениваем качество предсказаний модели на модернизированных данных</a></span></li><li><span><a href=\"#Вывод\" data-toc-modified-id=\"Вывод-4.3\"><span class=\"toc-item-num\">4.3&nbsp;&nbsp;</span>Вывод</a></span></li></ul></li><li><span><a href=\"#Общий-вывод\" data-toc-modified-id=\"Общий-вывод-5\"><span class=\"toc-item-num\">5&nbsp;&nbsp;</span>Общий вывод</a></span></li><li><span><a href=\"#Чек-лист-проверки\" data-toc-modified-id=\"Чек-лист-проверки-6\"><span class=\"toc-item-num\">6&nbsp;&nbsp;</span>Чек-лист проверки</a></span></li></ul></div>"
   ]
  },
  {
   "cell_type": "markdown",
   "metadata": {},
   "source": [
    "# Защита персональных данных клиентов"
   ]
  },
  {
   "cell_type": "markdown",
   "metadata": {},
   "source": [
    "В рамках проекта нам нужно защитить данные клиентов страховой компании «Хоть потоп». Нужно разработать такой метод преобразования данных, чтобы по полученныму результату было сложно восстановить персональную информацию. Корректность его работы необходимо обосновать.  \n",
    "Нужно защитить данные, преобразовав их так, чтобы в последствии качество моделей машинного обучения не ухудшилось. Подбирать наилучшую модель не требуется.  \n",
    "\n",
    "**План по выполнению проекта**  \n",
    "1. Загрузить и изучить данные;  \n",
    "2. Ответьте на вопрос и обоснуйте решение:   \n",
    "   Признаки умножают на обратимую матрицу. Изменится ли качество линейной регрессии? (Её можно обучить заново).  \n",
    "      a. Изменится. Приведите примеры матриц;  \n",
    "      b. Не изменится. Укажите, как связаны параметры линейной регрессии в исходной задаче и в преобразованной.  \n",
    "      \n",
    "3. Предложить алгоритм преобразования данных для решения задачи. Обосновать, почему качество линейной регрессии не поменяется.  \n",
    "4. Запрограммировать этот алгоритм, применив матричные операции. Проверить, что качество линейной регрессии из sklearn не отличается до и после преобразования. Применить метрику R2.  \n",
    "\n",
    "**Описание данных**  \n",
    "Набор данных находится в файле /datasets/insurance.csv.  \n",
    "*Признаки:* пол, возраст и зарплата застрахованного, количество членов его семьи.  \n",
    "*Целевой признак:* количество страховых выплат клиенту за последние 5 лет.  "
   ]
  },
  {
   "cell_type": "markdown",
   "metadata": {},
   "source": [
    "## Загрузка данных"
   ]
  },
  {
   "cell_type": "markdown",
   "metadata": {},
   "source": [
    "### Импорт библиотек и загрузка данных"
   ]
  },
  {
   "cell_type": "code",
   "execution_count": 1,
   "metadata": {},
   "outputs": [],
   "source": [
    "# import\n",
    "import pandas as pd\n",
    "import numpy as np\n",
    "import os\n",
    "\n",
    "from sklearn.metrics import r2_score\n",
    "from sklearn.linear_model import LinearRegression\n",
    "\n",
    "from sklearn.model_selection import train_test_split\n",
    "from sklearn.preprocessing import StandardScaler\n",
    "from sklearn.pipeline import Pipeline\n",
    "\n",
    "import warnings\n",
    "warnings.filterwarnings(\"ignore\")\n",
    "\n",
    "pd.set_option('display.max_columns', None)"
   ]
  },
  {
   "cell_type": "code",
   "execution_count": 2,
   "metadata": {},
   "outputs": [],
   "source": [
    "# подгружаем данные\n",
    "pth0_1 = '/datasets/insurance.csv'\n",
    "pth0_2 = 'C:/Users/username/Desktop/insurance.csv'\n",
    "\n",
    "if os.path.exists(pth0_1):\n",
    "    data = pd.read_csv(pth0_1)\n",
    "elif os.path.exists(pth0_2):\n",
    "    data = pd.read_csv(pth0_2)\n",
    "else:\n",
    "    print('Check the PATH to data file please')"
   ]
  },
  {
   "cell_type": "markdown",
   "metadata": {},
   "source": [
    "### Анализ и предварительная обработка данных"
   ]
  },
  {
   "cell_type": "code",
   "execution_count": 3,
   "metadata": {},
   "outputs": [
    {
     "name": "stdout",
     "output_type": "stream",
     "text": [
      "   Пол  Возраст  Зарплата  Члены семьи  Страховые выплаты\n",
      "0    1     41.0   49600.0            1                  0\n",
      "1    0     46.0   38000.0            1                  1\n",
      "2    0     29.0   21000.0            0                  0\n",
      "3    0     21.0   41700.0            2                  0\n",
      "4    1     28.0   26100.0            0                  0\n",
      "<class 'pandas.core.frame.DataFrame'>\n",
      "RangeIndex: 5000 entries, 0 to 4999\n",
      "Data columns (total 5 columns):\n",
      " #   Column             Non-Null Count  Dtype  \n",
      "---  ------             --------------  -----  \n",
      " 0   Пол                5000 non-null   int64  \n",
      " 1   Возраст            5000 non-null   float64\n",
      " 2   Зарплата           5000 non-null   float64\n",
      " 3   Члены семьи        5000 non-null   int64  \n",
      " 4   Страховые выплаты  5000 non-null   int64  \n",
      "dtypes: float64(2), int64(3)\n",
      "memory usage: 195.4 KB\n",
      "None\n",
      "               Пол      Возраст      Зарплата  Члены семьи  Страховые выплаты\n",
      "count  5000.000000  5000.000000   5000.000000  5000.000000        5000.000000\n",
      "mean      0.499000    30.952800  39916.360000     1.194200           0.148000\n",
      "std       0.500049     8.440807   9900.083569     1.091387           0.463183\n",
      "min       0.000000    18.000000   5300.000000     0.000000           0.000000\n",
      "25%       0.000000    24.000000  33300.000000     0.000000           0.000000\n",
      "50%       0.000000    30.000000  40200.000000     1.000000           0.000000\n",
      "75%       1.000000    37.000000  46600.000000     2.000000           0.000000\n",
      "max       1.000000    65.000000  79000.000000     6.000000           5.000000\n"
     ]
    }
   ],
   "source": [
    "# выводим первичную информацию о наборе данных\n",
    "print(data.head())\n",
    "print(data.info())\n",
    "print(data.describe())"
   ]
  },
  {
   "cell_type": "markdown",
   "metadata": {},
   "source": [
    "Очевидно, что кол-во членов семьи и возраст должны быть целочисленным типом данных, приведём к нему."
   ]
  },
  {
   "cell_type": "code",
   "execution_count": 4,
   "metadata": {},
   "outputs": [],
   "source": [
    "data[['Зарплата', 'Возраст']] = data[['Зарплата', 'Возраст']].astype('int')\n",
    "#data.info()"
   ]
  },
  {
   "cell_type": "markdown",
   "metadata": {},
   "source": [
    "Далее проверим на явные дубликаты и уникальные значения некоторые столбцы"
   ]
  },
  {
   "cell_type": "code",
   "execution_count": 5,
   "metadata": {},
   "outputs": [
    {
     "data": {
      "text/plain": [
       "153"
      ]
     },
     "execution_count": 5,
     "metadata": {},
     "output_type": "execute_result"
    }
   ],
   "source": [
    "# проверяем на явные дубликаты\n",
    "data.duplicated().sum()"
   ]
  },
  {
   "cell_type": "code",
   "execution_count": 6,
   "metadata": {},
   "outputs": [
    {
     "name": "stdout",
     "output_type": "stream",
     "text": [
      "Столбец: Пол\n",
      "Кол-во уникальных значений: 2\n",
      "Уникальные значения:\n",
      "[0, 1]\n",
      "\n",
      "Столбец: Члены семьи\n",
      "Кол-во уникальных значений: 7\n",
      "Уникальные значения:\n",
      "[0, 1, 2, 3, 4, 5, 6]\n",
      "\n",
      "Столбец: Страховые выплаты\n",
      "Кол-во уникальных значений: 6\n",
      "Уникальные значения:\n",
      "[0, 1, 2, 3, 4, 5]\n",
      "\n"
     ]
    }
   ],
   "source": [
    "columns = ['Пол', 'Члены семьи', 'Страховые выплаты']\n",
    "for column in columns:\n",
    "    print('Столбец:', column, sep=' ')\n",
    "    print('Кол-во уникальных значений:', len(data[column].unique()), sep=' ')\n",
    "    print('Уникальные значения:', sorted(data[column].unique()), sep='\\n')\n",
    "    print()"
   ]
  },
  {
   "cell_type": "markdown",
   "metadata": {},
   "source": [
    "### Выводы:  \n",
    "В целом, данные не требуют дополнительной подготовки.  \n",
    "Были обнаружены 153 полных дубликатов строк, с учётом 5000 строк, заполненных только цифрами, такое вполне могло случиться. Поэтому было принято решение оставить их как есть."
   ]
  },
  {
   "cell_type": "markdown",
   "metadata": {},
   "source": [
    "## Умножение матриц"
   ]
  },
  {
   "cell_type": "markdown",
   "metadata": {},
   "source": [
    "В этом задании вы можете записывать формулы в *Jupyter Notebook.*\n",
    "\n",
    "Чтобы записать формулу внутри текста, окружите её символами доллара \\\\$; если снаружи —  двойными символами \\\\$\\\\$. Эти формулы записываются на языке вёрстки *LaTeX.* \n",
    "\n",
    "Для примера мы записали формулы линейной регрессии. Можете их скопировать и отредактировать, чтобы решить задачу.\n",
    "\n",
    "Работать в *LaTeX* необязательно."
   ]
  },
  {
   "cell_type": "markdown",
   "metadata": {},
   "source": [
    "Обозначения:\n",
    "\n",
    "- $X$ — матрица признаков (нулевой столбец состоит из единиц)\n",
    "\n",
    "- $y$ — вектор целевого признака\n",
    "\n",
    "- $P$ — матрица, на которую умножаются признаки\n",
    "\n",
    "- $w$ — вектор весов линейной регрессии (нулевой элемент равен сдвигу)"
   ]
  },
  {
   "cell_type": "markdown",
   "metadata": {},
   "source": [
    "Предсказания:\n",
    "\n",
    "$$\n",
    "a = Xw\n",
    "$$\n",
    "\n",
    "Задача обучения:\n",
    "\n",
    "$$\n",
    "w = \\arg\\min_w MSE(Xw, y)\n",
    "$$\n",
    "\n",
    "Формула обучения:\n",
    "\n",
    "$$\n",
    "w = (X^T X)^{-1} X^T y\n",
    "$$"
   ]
  },
  {
   "cell_type": "markdown",
   "metadata": {},
   "source": [
    "**Вопрос:**  \n",
    "Признаки умножают на обратимую матрицу. Изменится ли качество линейной регрессии? (Её можно обучить заново).\n",
    "\n",
    "**Ответ:**  \n",
    "Не изменятся.\n",
    "\n",
    "**Обоснование:**"
   ]
  },
  {
   "cell_type": "markdown",
   "metadata": {},
   "source": [
    "Запишем новое представление матрицы признаков с учетом домнажения на обратную матрицу:\n",
    "\n",
    "$$\n",
    "Z = XP\n",
    "$$\n",
    "\n",
    "Тогда формулы c учетом новых введений изменят свой внешний вид.  \n",
    "Предсказания:\n",
    "\n",
    "$$\n",
    "A = ZW\n",
    "$$\n",
    "\n",
    "Формула обучения:\n",
    "\n",
    "$$\n",
    "W = (Z^T Z)^{-1} Z^T y,\n",
    "$$\n",
    "\n",
    "где W - вектор весов"
   ]
  },
  {
   "cell_type": "markdown",
   "metadata": {},
   "source": [
    "Получается, что выражение для $W$ преобразуется как:\n",
    "\n",
    "$$W = (Z^TZ)^{-1} Z^Ty =$$\n",
    "$$= ((XP)^T(XP))^{-1} (XP)^Ty =$$\n",
    "$$= P^{-1}((XP)^{T}X)^{-1} (XP)^Ty =$$\n",
    "$$= P^{-1}((XP)^{T}X)^{-1} P^TX^Ty =$$\n",
    "$$= P^{-1}(P^TX^TX)^{-1} P^TX^Ty =$$\n",
    "$$= P^{-1}(X^TX)^{-1}(P^T)^{-1} P^TX^Ty$$\n",
    "\n",
    "Далее сокращаем:\n",
    "\n",
    "$$(P^{T})^{-1} P^T = P^{-1}(X^TX)^{-1} X^Ty$$\n",
    "\n",
    "Произведем замену\n",
    "\n",
    "$$W = (X^TX)^{-1}X^Ty = P^{-1}w$$\n",
    "\n",
    "Подставим для $Z$ и $W$ в формулу для расчета $A$:\n",
    "\n",
    "$$A=ZW = XPP^{-1}w = Xw = a$$\n",
    "\n",
    "Выражения тождественны. Векторы предсказаний совпали."
   ]
  },
  {
   "cell_type": "markdown",
   "metadata": {},
   "source": [
    "### Вывод\n",
    "\n",
    "Исходная формула вектора предсказаний равна формуле вектора предсказаний в случае, для которого матрицу признаков умножили на обратимую матрицу. Качество линейной регрессии не изменится."
   ]
  },
  {
   "cell_type": "markdown",
   "metadata": {},
   "source": [
    "Рекомендую к ознакомлению статью на Хабр: https://habr.com/ru/articles/479398/"
   ]
  },
  {
   "cell_type": "markdown",
   "metadata": {},
   "source": [
    "## Алгоритм преобразования"
   ]
  },
  {
   "cell_type": "markdown",
   "metadata": {},
   "source": [
    "**Алгоритм**\n",
    "\n",
    "Алгоритм составляем на основании доказательства приведённого разделом выше: матрицу признаков необходимо умножить на обратимую матрицу той же размерности, все значения которой сгенерированы случайно."
   ]
  },
  {
   "cell_type": "markdown",
   "metadata": {},
   "source": [
    "**Обоснование**\n",
    "\n",
    "Для обоснования проведём небольшие практические расчёты."
   ]
  },
  {
   "cell_type": "code",
   "execution_count": 7,
   "metadata": {},
   "outputs": [],
   "source": [
    "# разделим пространство признаков и целевой признак\n",
    "features = data.drop(['Страховые выплаты'], axis=1)\n",
    "target = data['Страховые выплаты']"
   ]
  },
  {
   "cell_type": "markdown",
   "metadata": {},
   "source": [
    "После удаления целевого признака из данных, осталось ровно 4 колонки, следовательно, матрицу с признаками мы будем домнажать на матрицу размером (4, 4), сгенерированную случайно.  \n",
    "**Важно!** Нужно проверить, что у случайно сгенерированной матрицы есть обратная матрица."
   ]
  },
  {
   "cell_type": "code",
   "execution_count": 8,
   "metadata": {},
   "outputs": [
    {
     "name": "stdout",
     "output_type": "stream",
     "text": [
      "\n",
      "Обратная матрица к заданной существует\n"
     ]
    }
   ],
   "source": [
    "# создадим рандомную матрицу нужного размера\n",
    "rndm_mtx = np.random.randn(4, 4)\n",
    "\n",
    "# проверяем её на существование обратной матрицы\n",
    "try:\n",
    "    inv_mtx = np.linalg.inv(rndm_mtx)\n",
    "    print('\\nОбратная матрица к заданной существует')\n",
    "except:\n",
    "    print('\\nОбратная матрица к заданной не существует')"
   ]
  },
  {
   "cell_type": "markdown",
   "metadata": {},
   "source": [
    "Далее проводим рассчёты согласно формулам из предыдущего раздела:\n",
    "\n",
    "$$\n",
    "a = Xw\n",
    "$$\n",
    "\n",
    "$$\n",
    "w = (X^T X)^{-1} X^T y\n",
    "$$"
   ]
  },
  {
   "cell_type": "code",
   "execution_count": 9,
   "metadata": {},
   "outputs": [],
   "source": [
    "# для исходных признаков\n",
    "w = np.linalg.inv(features.T.dot(features)).dot(features.T).dot(target)\n",
    "a = features @ w"
   ]
  },
  {
   "cell_type": "code",
   "execution_count": 10,
   "metadata": {},
   "outputs": [],
   "source": [
    "# преобразуем матрицу признкаов и получим предсказания для неё\n",
    "features_upg = features.dot(rndm_mtx)\n",
    "w2 = np.linalg.inv(features_upg.T.dot(features_upg)).dot(features_upg.T).dot(target)\n",
    "a2 = features_upg @ w2"
   ]
  },
  {
   "cell_type": "code",
   "execution_count": 11,
   "metadata": {
    "scrolled": true
   },
   "outputs": [
    {
     "name": "stdout",
     "output_type": "stream",
     "text": [
      "4.0468440228882095e-06\n"
     ]
    }
   ],
   "source": [
    "# разница между предсказаниями составляет\n",
    "print((a - a2).sum())"
   ]
  },
  {
   "cell_type": "markdown",
   "metadata": {},
   "source": [
    "Очевидно, что разница на столько мала, что может быть признана несущественной."
   ]
  },
  {
   "cell_type": "markdown",
   "metadata": {},
   "source": [
    "### Выводы  \n",
    "Согласно произведённым практическим расчётам видно, что разница между предсказаниями на основании исходной матрицы признаков и изменённой, полученной за счёт домножения исходной матрицы на матрицу из случайных значений, но обладающую обратной матрицей, несущественена, а следовательно, алгоритм позволяет изменять исходные признаки без снижения качества предсказаний модели."
   ]
  },
  {
   "cell_type": "markdown",
   "metadata": {},
   "source": [
    "## Проверка алгоритма"
   ]
  },
  {
   "cell_type": "markdown",
   "metadata": {},
   "source": [
    "### Оцениваем качество предсказаний модели на исходных данных"
   ]
  },
  {
   "cell_type": "code",
   "execution_count": 23,
   "metadata": {},
   "outputs": [],
   "source": [
    "# создаем обучающую и тестовую выборки\n",
    "features_train, features_test, target_train, target_test = train_test_split(features, target, test_size=0.25, random_state=12345)"
   ]
  },
  {
   "cell_type": "code",
   "execution_count": 24,
   "metadata": {},
   "outputs": [
    {
     "name": "stdout",
     "output_type": "stream",
     "text": [
      "R2 = 0.4352275684083322\n"
     ]
    }
   ],
   "source": [
    "# модель с исходными признаками без преобразования\n",
    "model = LinearRegression()\n",
    "model.fit(features_train, target_train)\n",
    "r2_lr_of = r2_score(target_test, model.predict(features_test)) # original features\n",
    "print(\"R2 =\", r2_lr_of)"
   ]
  },
  {
   "cell_type": "code",
   "execution_count": 25,
   "metadata": {},
   "outputs": [
    {
     "name": "stdout",
     "output_type": "stream",
     "text": [
      "R2 = 0.43522756840833376\n"
     ]
    }
   ],
   "source": [
    "# добавим масштабирование признаков\n",
    "pipeline = Pipeline([(\"standard_scaller\", StandardScaler()),(\"linear_regression\", LinearRegression())])\n",
    "pipeline.fit(features_train, target_train)\n",
    "r2_lr_sof = r2_score(target_test, pipeline.predict(features_test)) # scaled original features\n",
    "print(\"R2 =\", r2_lr_sof)"
   ]
  },
  {
   "cell_type": "code",
   "execution_count": 26,
   "metadata": {},
   "outputs": [
    {
     "name": "stdout",
     "output_type": "stream",
     "text": [
      "Разница между предсказаниями на масштабированных и немасштабированных оригинальных данных составляет:\n",
      "-1.5543122344752192e-15\n"
     ]
    }
   ],
   "source": [
    "# разница\n",
    "print('Разница между предсказаниями на масштабированных и немасштабированных оригинальных данных составляет:', \n",
    "      r2_lr_of - r2_lr_sof, sep='\\n')"
   ]
  },
  {
   "cell_type": "markdown",
   "metadata": {},
   "source": [
    "Можно считать разницу несущественной."
   ]
  },
  {
   "cell_type": "markdown",
   "metadata": {},
   "source": [
    "###  Оцениваем качество предсказаний модели на модернизированных данных"
   ]
  },
  {
   "cell_type": "code",
   "execution_count": 27,
   "metadata": {},
   "outputs": [
    {
     "name": "stdout",
     "output_type": "stream",
     "text": [
      "[[-0.68924236 -0.63186005 -0.39397444 -0.84142046]\n",
      " [-1.35702699 -0.63104004 -0.92390933  1.31619301]\n",
      " [-0.38079073 -0.00416371 -0.14514724 -0.28838423]\n",
      " [-0.52483315 -0.75832429  0.2402151   1.06256136]]\n"
     ]
    }
   ],
   "source": [
    "# посмотрим на полученную ранее случайную матрицу\n",
    "print(rndm_mtx)"
   ]
  },
  {
   "cell_type": "code",
   "execution_count": 28,
   "metadata": {},
   "outputs": [
    {
     "data": {
      "text/html": [
       "<div>\n",
       "<style scoped>\n",
       "    .dataframe tbody tr th:only-of-type {\n",
       "        vertical-align: middle;\n",
       "    }\n",
       "\n",
       "    .dataframe tbody tr th {\n",
       "        vertical-align: top;\n",
       "    }\n",
       "\n",
       "    .dataframe thead th {\n",
       "        text-align: right;\n",
       "    }\n",
       "</style>\n",
       "<table border=\"1\" class=\"dataframe\">\n",
       "  <thead>\n",
       "    <tr style=\"text-align: right;\">\n",
       "      <th></th>\n",
       "      <th>Пол</th>\n",
       "      <th>Возраст</th>\n",
       "      <th>Зарплата</th>\n",
       "      <th>Члены семьи</th>\n",
       "    </tr>\n",
       "  </thead>\n",
       "  <tbody>\n",
       "    <tr>\n",
       "      <th>0</th>\n",
       "      <td>1</td>\n",
       "      <td>41</td>\n",
       "      <td>49600</td>\n",
       "      <td>1</td>\n",
       "    </tr>\n",
       "    <tr>\n",
       "      <th>1</th>\n",
       "      <td>0</td>\n",
       "      <td>46</td>\n",
       "      <td>38000</td>\n",
       "      <td>1</td>\n",
       "    </tr>\n",
       "    <tr>\n",
       "      <th>2</th>\n",
       "      <td>0</td>\n",
       "      <td>29</td>\n",
       "      <td>21000</td>\n",
       "      <td>0</td>\n",
       "    </tr>\n",
       "    <tr>\n",
       "      <th>3</th>\n",
       "      <td>0</td>\n",
       "      <td>21</td>\n",
       "      <td>41700</td>\n",
       "      <td>2</td>\n",
       "    </tr>\n",
       "    <tr>\n",
       "      <th>4</th>\n",
       "      <td>1</td>\n",
       "      <td>28</td>\n",
       "      <td>26100</td>\n",
       "      <td>0</td>\n",
       "    </tr>\n",
       "  </tbody>\n",
       "</table>\n",
       "</div>"
      ],
      "text/plain": [
       "   Пол  Возраст  Зарплата  Члены семьи\n",
       "0    1       41     49600            1\n",
       "1    0       46     38000            1\n",
       "2    0       29     21000            0\n",
       "3    0       21     41700            2\n",
       "4    1       28     26100            0"
      ]
     },
     "metadata": {},
     "output_type": "display_data"
    },
    {
     "data": {
      "text/html": [
       "<div>\n",
       "<style scoped>\n",
       "    .dataframe tbody tr th:only-of-type {\n",
       "        vertical-align: middle;\n",
       "    }\n",
       "\n",
       "    .dataframe tbody tr th {\n",
       "        vertical-align: top;\n",
       "    }\n",
       "\n",
       "    .dataframe thead th {\n",
       "        text-align: right;\n",
       "    }\n",
       "</style>\n",
       "<table border=\"1\" class=\"dataframe\">\n",
       "  <thead>\n",
       "    <tr style=\"text-align: right;\">\n",
       "      <th></th>\n",
       "      <th>0</th>\n",
       "      <th>1</th>\n",
       "      <th>2</th>\n",
       "      <th>3</th>\n",
       "    </tr>\n",
       "  </thead>\n",
       "  <tbody>\n",
       "    <tr>\n",
       "      <th>0</th>\n",
       "      <td>-18944.072240</td>\n",
       "      <td>-233.783008</td>\n",
       "      <td>-7237.337253</td>\n",
       "      <td>-14249.672768</td>\n",
       "    </tr>\n",
       "    <tr>\n",
       "      <th>1</th>\n",
       "      <td>-14532.995699</td>\n",
       "      <td>-188.007273</td>\n",
       "      <td>-5557.854816</td>\n",
       "      <td>-10896.993311</td>\n",
       "    </tr>\n",
       "    <tr>\n",
       "      <th>2</th>\n",
       "      <td>-8035.959049</td>\n",
       "      <td>-105.738142</td>\n",
       "      <td>-3074.885456</td>\n",
       "      <td>-6017.899239</td>\n",
       "    </tr>\n",
       "    <tr>\n",
       "      <th>3</th>\n",
       "      <td>-15908.520548</td>\n",
       "      <td>-188.395336</td>\n",
       "      <td>-6071.561664</td>\n",
       "      <td>-11995.857227</td>\n",
       "    </tr>\n",
       "    <tr>\n",
       "      <th>4</th>\n",
       "      <td>-9977.323972</td>\n",
       "      <td>-126.973900</td>\n",
       "      <td>-3814.606456</td>\n",
       "      <td>-7490.816427</td>\n",
       "    </tr>\n",
       "  </tbody>\n",
       "</table>\n",
       "</div>"
      ],
      "text/plain": [
       "              0           1            2             3\n",
       "0 -18944.072240 -233.783008 -7237.337253 -14249.672768\n",
       "1 -14532.995699 -188.007273 -5557.854816 -10896.993311\n",
       "2  -8035.959049 -105.738142 -3074.885456  -6017.899239\n",
       "3 -15908.520548 -188.395336 -6071.561664 -11995.857227\n",
       "4  -9977.323972 -126.973900 -3814.606456  -7490.816427"
      ]
     },
     "metadata": {},
     "output_type": "display_data"
    }
   ],
   "source": [
    "# посмотрим на результат преобразования матрицы принаков\n",
    "display(features.head(5))\n",
    "display(features_upg.head(5))"
   ]
  },
  {
   "cell_type": "code",
   "execution_count": 29,
   "metadata": {},
   "outputs": [],
   "source": [
    "# разбиваем пространство преобразованных признаков на обучающую и тестовую выборки\n",
    "features_train_upg, features_test_upg, target_train, target_test = train_test_split(features_upg, target, test_size=0.25, random_state=12345)"
   ]
  },
  {
   "cell_type": "code",
   "execution_count": 31,
   "metadata": {},
   "outputs": [
    {
     "name": "stdout",
     "output_type": "stream",
     "text": [
      "R2 = 0.43522756840825605\n"
     ]
    }
   ],
   "source": [
    "# модель с модернизированными признаками без преобразования\n",
    "model = LinearRegression()\n",
    "model.fit(features_train_upg, target_train)\n",
    "r2_lr_uf = r2_score(target_test, model.predict(features_test_upg)) # upgrated features\n",
    "print(\"R2 =\", r2_lr_uf)"
   ]
  },
  {
   "cell_type": "code",
   "execution_count": 33,
   "metadata": {},
   "outputs": [
    {
     "name": "stdout",
     "output_type": "stream",
     "text": [
      "R2 = 0.43522756840835064\n"
     ]
    }
   ],
   "source": [
    "# добавим масштабирование модернизированных признаков\n",
    "pipeline = Pipeline([(\"standard_scaller\", StandardScaler()),(\"linear_regression\", LinearRegression())])\n",
    "pipeline.fit(features_train_upg, target_train)\n",
    "r2_lr_suf = r2_score(target_test, pipeline.predict(features_test_upg)) # scaled upgrated features\n",
    "print(\"R2 =\", r2_lr_suf)"
   ]
  },
  {
   "cell_type": "code",
   "execution_count": 34,
   "metadata": {},
   "outputs": [
    {
     "name": "stdout",
     "output_type": "stream",
     "text": [
      "Разница составляет: -1.687538997430238e-14\n"
     ]
    }
   ],
   "source": [
    "# итого, разница между результатами модели на оргинальных данных и преобразованных составит\n",
    "print('Разница составляет:', r2_lr_sof - r2_lr_suf)"
   ]
  },
  {
   "cell_type": "code",
   "execution_count": 35,
   "metadata": {},
   "outputs": [
    {
     "data": {
      "text/html": [
       "<div>\n",
       "<style scoped>\n",
       "    .dataframe tbody tr th:only-of-type {\n",
       "        vertical-align: middle;\n",
       "    }\n",
       "\n",
       "    .dataframe tbody tr th {\n",
       "        vertical-align: top;\n",
       "    }\n",
       "\n",
       "    .dataframe thead th {\n",
       "        text-align: right;\n",
       "    }\n",
       "</style>\n",
       "<table border=\"1\" class=\"dataframe\">\n",
       "  <thead>\n",
       "    <tr style=\"text-align: right;\">\n",
       "      <th></th>\n",
       "      <th>R2</th>\n",
       "    </tr>\n",
       "  </thead>\n",
       "  <tbody>\n",
       "    <tr>\n",
       "      <th>Качество на исходных данных</th>\n",
       "      <td>0.435228</td>\n",
       "    </tr>\n",
       "    <tr>\n",
       "      <th>Качество на исходных данных c масштабированием</th>\n",
       "      <td>0.435228</td>\n",
       "    </tr>\n",
       "    <tr>\n",
       "      <th>Качество на преобразованных признаках</th>\n",
       "      <td>0.435228</td>\n",
       "    </tr>\n",
       "    <tr>\n",
       "      <th>ЛКачество на преобразованных признаках с масштабированием</th>\n",
       "      <td>0.435228</td>\n",
       "    </tr>\n",
       "  </tbody>\n",
       "</table>\n",
       "</div>"
      ],
      "text/plain": [
       "                                                          R2\n",
       "Качество на исходных данных                         0.435228\n",
       "Качество на исходных данных c масштабированием      0.435228\n",
       "Качество на преобразованных признаках               0.435228\n",
       "ЛКачество на преобразованных признаках с масшта...  0.435228"
      ]
     },
     "execution_count": 35,
     "metadata": {},
     "output_type": "execute_result"
    }
   ],
   "source": [
    "summary = pd.DataFrame(data= [r2_lr_of,\n",
    "                      r2_lr_sof,\n",
    "                      r2_lr_uf,\n",
    "                      r2_lr_suf], \n",
    "                      columns=['R2'], \n",
    "                      index=['Качество на исходных данных',\n",
    "                            'Качество на исходных данных c масштабированием',\n",
    "                            'Качество на преобразованных признаках',\n",
    "                            'ЛКачество на преобразованных признаках с масштабированием',])\n",
    "summary"
   ]
  },
  {
   "cell_type": "markdown",
   "metadata": {},
   "source": [
    "### Вывод  \n",
    "Результаты метрики R2, полученные для оригинальной матрицы признаков и преобразованной матрицы практически совпадают, что подтверждает верность теоретического обоснования из второго раздела проекта, а также предварительную оценку испльзования алгоритма из третьего."
   ]
  },
  {
   "cell_type": "markdown",
   "metadata": {},
   "source": [
    "## Общий вывод  \n",
    "1. Предварительный анализ исходных данных показал их адекватность, мы изменили только тип данных для двух колонок. Также были обнаружено явные дубликаты, но в виду их небольшого количества и условия, все строки представляют собой наборы цифр, было принято решение оставить их;  \n",
    "2. Ответили на вопрос: \"Признаки умножают на обратимую матрицу. Изменится ли качество линейной регрессии?\" Не изменится, привели теоретическое обоснование ответа;  \n",
    "3. Предложили алгоритм сокрытия данных клиентов за счёт умножения матрицы признаков на обратимую матрицу, наполненную случайными величинами. Провели предварительный расчёт;  \n",
    "4. Провели сравнение результатов работы линейной регрессии на оригинальном пространстве признаков и преобразованном, согласно предложенному алгоритму. **Исследовали метрику R2, качество работы модели не изменилось.**"
   ]
  }
 ],
 "metadata": {
  "ExecuteTimeLog": [
   {
    "duration": 1248,
    "start_time": "2023-05-02T10:43:15.521Z"
   },
   {
    "duration": 5,
    "start_time": "2023-05-02T10:45:30.656Z"
   },
   {
    "duration": 4,
    "start_time": "2023-05-02T10:47:11.830Z"
   },
   {
    "duration": 4,
    "start_time": "2023-05-02T10:47:13.357Z"
   },
   {
    "duration": 117,
    "start_time": "2023-05-02T10:47:15.781Z"
   },
   {
    "duration": 5,
    "start_time": "2023-05-02T10:47:40.114Z"
   },
   {
    "duration": 89,
    "start_time": "2023-05-02T10:47:42.880Z"
   },
   {
    "duration": 1101,
    "start_time": "2023-05-04T20:01:13.455Z"
   },
   {
    "duration": 93,
    "start_time": "2023-05-04T20:01:14.559Z"
   },
   {
    "duration": 10,
    "start_time": "2023-05-04T20:15:20.171Z"
   },
   {
    "duration": 133,
    "start_time": "2023-05-04T20:15:42.434Z"
   },
   {
    "duration": 8,
    "start_time": "2023-05-04T20:15:45.537Z"
   },
   {
    "duration": 11,
    "start_time": "2023-05-04T20:15:56.364Z"
   },
   {
    "duration": 20,
    "start_time": "2023-05-04T20:16:31.265Z"
   },
   {
    "duration": 20,
    "start_time": "2023-05-04T20:16:34.700Z"
   },
   {
    "duration": 25,
    "start_time": "2023-05-04T20:18:35.587Z"
   },
   {
    "duration": 37,
    "start_time": "2023-05-04T20:19:03.727Z"
   },
   {
    "duration": 11,
    "start_time": "2023-05-04T20:25:32.073Z"
   },
   {
    "duration": 14,
    "start_time": "2023-05-04T20:25:44.972Z"
   },
   {
    "duration": 6,
    "start_time": "2023-05-04T20:25:56.473Z"
   },
   {
    "duration": 8,
    "start_time": "2023-05-04T20:28:46.130Z"
   },
   {
    "duration": 7,
    "start_time": "2023-05-04T20:29:05.977Z"
   },
   {
    "duration": 5,
    "start_time": "2023-05-04T20:29:16.218Z"
   },
   {
    "duration": 6,
    "start_time": "2023-05-04T20:29:21.661Z"
   },
   {
    "duration": 11,
    "start_time": "2023-05-04T20:39:39.161Z"
   },
   {
    "duration": 11,
    "start_time": "2023-05-04T20:40:12.672Z"
   },
   {
    "duration": 11,
    "start_time": "2023-05-04T20:40:20.660Z"
   },
   {
    "duration": 11,
    "start_time": "2023-05-04T20:43:08.203Z"
   },
   {
    "duration": 11,
    "start_time": "2023-05-04T20:44:37.330Z"
   },
   {
    "duration": 11,
    "start_time": "2023-05-04T20:44:59.652Z"
   },
   {
    "duration": 6,
    "start_time": "2023-05-04T20:45:38.899Z"
   },
   {
    "duration": 4,
    "start_time": "2023-05-04T20:46:40.754Z"
   },
   {
    "duration": 11,
    "start_time": "2023-05-04T20:47:05.084Z"
   },
   {
    "duration": 11,
    "start_time": "2023-05-04T20:47:11.370Z"
   },
   {
    "duration": 7,
    "start_time": "2023-05-04T20:48:22.106Z"
   },
   {
    "duration": 5,
    "start_time": "2023-05-04T20:48:36.876Z"
   },
   {
    "duration": 6,
    "start_time": "2023-05-04T20:49:01.346Z"
   },
   {
    "duration": 1128,
    "start_time": "2023-05-05T09:36:37.431Z"
   },
   {
    "duration": 94,
    "start_time": "2023-05-05T09:36:38.561Z"
   },
   {
    "duration": 32,
    "start_time": "2023-05-05T09:36:38.656Z"
   },
   {
    "duration": 5,
    "start_time": "2023-05-05T09:36:38.699Z"
   },
   {
    "duration": 20,
    "start_time": "2023-05-05T09:36:38.706Z"
   },
   {
    "duration": 6,
    "start_time": "2023-05-05T09:36:38.728Z"
   },
   {
    "duration": 1351,
    "start_time": "2023-05-06T18:20:55.975Z"
   },
   {
    "duration": 101,
    "start_time": "2023-05-06T18:20:57.329Z"
   },
   {
    "duration": 45,
    "start_time": "2023-05-06T18:20:57.432Z"
   },
   {
    "duration": 7,
    "start_time": "2023-05-06T18:20:57.483Z"
   },
   {
    "duration": 73,
    "start_time": "2023-05-06T18:20:57.493Z"
   },
   {
    "duration": 23,
    "start_time": "2023-05-06T18:20:57.574Z"
   },
   {
    "duration": 6,
    "start_time": "2023-05-06T18:28:28.829Z"
   },
   {
    "duration": 27,
    "start_time": "2023-05-06T18:32:51.879Z"
   },
   {
    "duration": 13,
    "start_time": "2023-05-06T18:40:11.981Z"
   },
   {
    "duration": 109,
    "start_time": "2023-05-06T18:47:59.505Z"
   },
   {
    "duration": 7,
    "start_time": "2023-05-06T18:48:14.852Z"
   },
   {
    "duration": 8,
    "start_time": "2023-05-06T18:49:17.716Z"
   },
   {
    "duration": 5,
    "start_time": "2023-05-06T18:49:35.714Z"
   },
   {
    "duration": 1293,
    "start_time": "2023-05-06T18:50:07.552Z"
   },
   {
    "duration": 32,
    "start_time": "2023-05-06T18:50:08.847Z"
   },
   {
    "duration": 36,
    "start_time": "2023-05-06T18:50:08.881Z"
   },
   {
    "duration": 5,
    "start_time": "2023-05-06T18:50:08.920Z"
   },
   {
    "duration": 23,
    "start_time": "2023-05-06T18:50:08.928Z"
   },
   {
    "duration": 10,
    "start_time": "2023-05-06T18:50:08.953Z"
   },
   {
    "duration": 8,
    "start_time": "2023-05-06T18:50:08.965Z"
   },
   {
    "duration": 47,
    "start_time": "2023-05-06T18:50:08.974Z"
   },
   {
    "duration": 95,
    "start_time": "2023-05-06T18:50:09.024Z"
   },
   {
    "duration": 192,
    "start_time": "2023-05-06T18:50:09.124Z"
   },
   {
    "duration": 107,
    "start_time": "2023-05-06T18:50:09.319Z"
   },
   {
    "duration": 7,
    "start_time": "2023-05-06T18:52:02.477Z"
   },
   {
    "duration": 6,
    "start_time": "2023-05-06T18:52:03.042Z"
   },
   {
    "duration": 5,
    "start_time": "2023-05-06T18:52:03.441Z"
   },
   {
    "duration": 1267,
    "start_time": "2023-05-06T18:52:34.213Z"
   },
   {
    "duration": 31,
    "start_time": "2023-05-06T18:52:35.482Z"
   },
   {
    "duration": 41,
    "start_time": "2023-05-06T18:52:35.515Z"
   },
   {
    "duration": 8,
    "start_time": "2023-05-06T18:52:35.558Z"
   },
   {
    "duration": 24,
    "start_time": "2023-05-06T18:52:35.569Z"
   },
   {
    "duration": 29,
    "start_time": "2023-05-06T18:52:35.595Z"
   },
   {
    "duration": 26,
    "start_time": "2023-05-06T18:52:35.626Z"
   },
   {
    "duration": 26,
    "start_time": "2023-05-06T18:52:35.655Z"
   },
   {
    "duration": 149,
    "start_time": "2023-05-06T18:52:35.685Z"
   },
   {
    "duration": 15,
    "start_time": "2023-05-06T18:52:35.919Z"
   },
   {
    "duration": 100,
    "start_time": "2023-05-06T18:52:35.936Z"
   },
   {
    "duration": 1170,
    "start_time": "2023-05-06T18:52:44.376Z"
   },
   {
    "duration": 30,
    "start_time": "2023-05-06T18:52:45.548Z"
   },
   {
    "duration": 39,
    "start_time": "2023-05-06T18:52:45.580Z"
   },
   {
    "duration": 5,
    "start_time": "2023-05-06T18:52:45.621Z"
   },
   {
    "duration": 31,
    "start_time": "2023-05-06T18:52:45.627Z"
   },
   {
    "duration": 12,
    "start_time": "2023-05-06T18:52:45.659Z"
   },
   {
    "duration": 12,
    "start_time": "2023-05-06T18:52:45.672Z"
   },
   {
    "duration": 9,
    "start_time": "2023-05-06T18:52:45.686Z"
   },
   {
    "duration": 37,
    "start_time": "2023-05-06T18:52:45.697Z"
   },
   {
    "duration": 110,
    "start_time": "2023-05-06T18:52:45.821Z"
   },
   {
    "duration": 187,
    "start_time": "2023-05-06T18:52:45.934Z"
   },
   {
    "duration": 1227,
    "start_time": "2023-05-06T18:52:52.881Z"
   },
   {
    "duration": 31,
    "start_time": "2023-05-06T18:52:54.110Z"
   },
   {
    "duration": 31,
    "start_time": "2023-05-06T18:52:54.143Z"
   },
   {
    "duration": 5,
    "start_time": "2023-05-06T18:52:54.176Z"
   },
   {
    "duration": 23,
    "start_time": "2023-05-06T18:52:54.182Z"
   },
   {
    "duration": 9,
    "start_time": "2023-05-06T18:52:54.206Z"
   },
   {
    "duration": 12,
    "start_time": "2023-05-06T18:52:54.217Z"
   },
   {
    "duration": 14,
    "start_time": "2023-05-06T18:52:54.230Z"
   },
   {
    "duration": 176,
    "start_time": "2023-05-06T18:52:54.247Z"
   },
   {
    "duration": 107,
    "start_time": "2023-05-06T18:52:54.427Z"
   },
   {
    "duration": 87,
    "start_time": "2023-05-06T18:52:54.535Z"
   },
   {
    "duration": 5,
    "start_time": "2023-05-06T19:21:04.443Z"
   },
   {
    "duration": 10,
    "start_time": "2023-05-06T19:23:05.737Z"
   },
   {
    "duration": 123,
    "start_time": "2023-05-06T19:26:35.085Z"
   },
   {
    "duration": 26,
    "start_time": "2023-05-06T19:26:41.923Z"
   },
   {
    "duration": 3,
    "start_time": "2023-05-06T19:28:40.570Z"
   },
   {
    "duration": 4,
    "start_time": "2023-05-06T19:29:07.802Z"
   },
   {
    "duration": 4,
    "start_time": "2023-05-06T20:25:24.633Z"
   },
   {
    "duration": 4,
    "start_time": "2023-05-06T20:26:06.863Z"
   },
   {
    "duration": 3,
    "start_time": "2023-05-06T20:28:27.943Z"
   },
   {
    "duration": 14,
    "start_time": "2023-05-06T20:29:48.510Z"
   },
   {
    "duration": 5,
    "start_time": "2023-05-06T20:31:33.734Z"
   },
   {
    "duration": 6,
    "start_time": "2023-05-06T20:35:59.016Z"
   },
   {
    "duration": 11,
    "start_time": "2023-05-06T20:35:59.481Z"
   },
   {
    "duration": 12,
    "start_time": "2023-05-06T20:35:59.974Z"
   },
   {
    "duration": 4,
    "start_time": "2023-05-06T20:36:00.447Z"
   },
   {
    "duration": 4,
    "start_time": "2023-05-06T20:36:04.007Z"
   },
   {
    "duration": 13,
    "start_time": "2023-05-06T20:36:04.521Z"
   },
   {
    "duration": 7,
    "start_time": "2023-05-06T20:36:07.464Z"
   },
   {
    "duration": 8,
    "start_time": "2023-05-06T20:36:09.239Z"
   },
   {
    "duration": 10,
    "start_time": "2023-05-06T20:37:48.936Z"
   },
   {
    "duration": 11,
    "start_time": "2023-05-06T20:37:51.231Z"
   },
   {
    "duration": 17,
    "start_time": "2023-05-06T20:41:55.080Z"
   },
   {
    "duration": 5,
    "start_time": "2023-05-06T20:42:05.194Z"
   },
   {
    "duration": 10,
    "start_time": "2023-05-06T20:44:16.532Z"
   }
  ],
  "kernelspec": {
   "display_name": "Python 3 (ipykernel)",
   "language": "python",
   "name": "python3"
  },
  "language_info": {
   "codemirror_mode": {
    "name": "ipython",
    "version": 3
   },
   "file_extension": ".py",
   "mimetype": "text/x-python",
   "name": "python",
   "nbconvert_exporter": "python",
   "pygments_lexer": "ipython3",
   "version": "3.9.16"
  },
  "toc": {
   "base_numbering": 1,
   "nav_menu": {},
   "number_sections": true,
   "sideBar": true,
   "skip_h1_title": true,
   "title_cell": "Содержание",
   "title_sidebar": "Contents",
   "toc_cell": true,
   "toc_position": {
    "height": "calc(100% - 180px)",
    "left": "10px",
    "top": "150px",
    "width": "294.233px"
   },
   "toc_section_display": true,
   "toc_window_display": true
  }
 },
 "nbformat": 4,
 "nbformat_minor": 2
}
